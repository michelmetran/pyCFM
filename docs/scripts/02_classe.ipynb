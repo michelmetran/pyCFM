{
 "cells": [
  {
   "cell_type": "markdown",
   "id": "a9da1213",
   "metadata": {},
   "source": [
    "<br>\n",
    "\n",
    "# Scripts\n",
    "\n",
    "_Scripts_ para demonstrar o uso da *classe*"
   ]
  },
  {
   "cell_type": "code",
   "execution_count": null,
   "id": "54e2d690",
   "metadata": {},
   "outputs": [],
   "source": [
    "import pycfm as cfm"
   ]
  },
  {
   "cell_type": "markdown",
   "id": "70142c56",
   "metadata": {},
   "source": [
    "<br>\n",
    "\n",
    "------\n",
    "\n",
    "## Pesquisa CRM"
   ]
  },
  {
   "cell_type": "code",
   "execution_count": null,
   "id": "59aa9851",
   "metadata": {},
   "outputs": [],
   "source": [
    "crm = 240538\n",
    "crm = 16652\n",
    "\n",
    "medico = cfm.Medico(\n",
    "    crm=crm,\n",
    "    uf='SP',\n",
    ")"
   ]
  },
  {
   "cell_type": "code",
   "execution_count": null,
   "id": "1e7ea88f",
   "metadata": {},
   "outputs": [],
   "source": [
    "medico._data"
   ]
  },
  {
   "cell_type": "markdown",
   "id": "e27fc67e",
   "metadata": {},
   "source": [
    "<br>\n",
    "\n",
    "Uma vez instanciada a classe `Medico` é possível obter diversos atributos que existem no _Conselho Federal de Medicina_.\n"
   ]
  },
  {
   "cell_type": "code",
   "execution_count": null,
   "id": "d2ea971d",
   "metadata": {},
   "outputs": [],
   "source": [
    "medico.uf"
   ]
  },
  {
   "cell_type": "code",
   "execution_count": null,
   "id": "f82eb3f0",
   "metadata": {},
   "outputs": [],
   "source": [
    "medico.crm"
   ]
  },
  {
   "cell_type": "code",
   "execution_count": null,
   "id": "816f0f4f",
   "metadata": {},
   "outputs": [],
   "source": [
    "medico.crm_natural"
   ]
  },
  {
   "cell_type": "code",
   "execution_count": null,
   "id": "f952da24",
   "metadata": {},
   "outputs": [],
   "source": [
    "medico.nome"
   ]
  },
  {
   "cell_type": "code",
   "execution_count": null,
   "id": "9838b96e",
   "metadata": {},
   "outputs": [],
   "source": [
    "medico.nome_social"
   ]
  },
  {
   "cell_type": "code",
   "execution_count": null,
   "id": "102f616d",
   "metadata": {},
   "outputs": [],
   "source": [
    "medico.data_inscricao"
   ]
  },
  {
   "cell_type": "code",
   "execution_count": null,
   "id": "40bbb334",
   "metadata": {},
   "outputs": [],
   "source": [
    "medico.id_tipo_inscricao"
   ]
  },
  {
   "cell_type": "code",
   "execution_count": null,
   "id": "f5ca191c",
   "metadata": {},
   "outputs": [],
   "source": [
    "medico.tipo_inscricao"
   ]
  },
  {
   "cell_type": "code",
   "execution_count": null,
   "id": "f05ddebb",
   "metadata": {},
   "outputs": [],
   "source": [
    "medico.id_situacao"
   ]
  },
  {
   "cell_type": "code",
   "execution_count": null,
   "id": "eef135ad",
   "metadata": {},
   "outputs": [],
   "source": [
    "medico.situacao"
   ]
  },
  {
   "cell_type": "code",
   "execution_count": null,
   "id": "7c0bc726",
   "metadata": {},
   "outputs": [],
   "source": [
    "medico.especialidade"
   ]
  },
  {
   "cell_type": "code",
   "execution_count": null,
   "id": "26646868",
   "metadata": {},
   "outputs": [],
   "source": [
    "medico.instituicao_graduacao"
   ]
  },
  {
   "cell_type": "code",
   "execution_count": null,
   "id": "aee1ae15",
   "metadata": {},
   "outputs": [],
   "source": [
    "medico.ano_graduacao"
   ]
  },
  {
   "cell_type": "markdown",
   "id": "a664e8b8",
   "metadata": {},
   "source": [
    "<br>\n",
    "\n",
    "-----\n",
    "\n",
    "## Photo"
   ]
  },
  {
   "cell_type": "code",
   "execution_count": null,
   "id": "f6523daa",
   "metadata": {},
   "outputs": [],
   "source": [
    "# medico._buscar_foto()"
   ]
  },
  {
   "cell_type": "code",
   "execution_count": null,
   "id": "e283ba58",
   "metadata": {},
   "outputs": [],
   "source": [
    "# medico._data_foto"
   ]
  },
  {
   "cell_type": "code",
   "execution_count": null,
   "id": "0bddab9c",
   "metadata": {},
   "outputs": [],
   "source": [
    "medico.id_solicitante"
   ]
  },
  {
   "cell_type": "code",
   "execution_count": null,
   "id": "6e2db47e",
   "metadata": {},
   "outputs": [],
   "source": [
    "medico.situacao2"
   ]
  },
  {
   "cell_type": "code",
   "execution_count": null,
   "id": "15ba6391",
   "metadata": {},
   "outputs": [],
   "source": [
    "medico.endereco"
   ]
  },
  {
   "cell_type": "code",
   "execution_count": null,
   "id": "94dd999b",
   "metadata": {},
   "outputs": [],
   "source": [
    "medico.telefone"
   ]
  },
  {
   "cell_type": "code",
   "execution_count": null,
   "id": "1c3035c5",
   "metadata": {},
   "outputs": [],
   "source": [
    "medico.inscricao"
   ]
  },
  {
   "cell_type": "code",
   "execution_count": null,
   "id": "772bee8b",
   "metadata": {},
   "outputs": [],
   "source": [
    "medico.autorizacao_imagem"
   ]
  },
  {
   "cell_type": "code",
   "execution_count": null,
   "id": "f37ae00d",
   "metadata": {},
   "outputs": [],
   "source": [
    "medico.autorizacao_endereco"
   ]
  },
  {
   "cell_type": "code",
   "execution_count": null,
   "id": "510d7b31",
   "metadata": {},
   "outputs": [],
   "source": [
    "medico.vp_destino"
   ]
  },
  {
   "cell_type": "code",
   "execution_count": null,
   "id": "e4733b46",
   "metadata": {},
   "outputs": [],
   "source": [
    "medico.vp_inicio"
   ]
  },
  {
   "cell_type": "code",
   "execution_count": null,
   "id": "d5ec5cbc",
   "metadata": {},
   "outputs": [],
   "source": [
    "medico.vp_fim"
   ]
  },
  {
   "cell_type": "code",
   "execution_count": null,
   "id": "74a2544b",
   "metadata": {},
   "outputs": [],
   "source": [
    "medico.hash"
   ]
  },
  {
   "cell_type": "markdown",
   "id": "91373ef8",
   "metadata": {},
   "source": [
    "<br>\n",
    "\n",
    "---\n",
    "\n",
    "## Salvar foto\n"
   ]
  },
  {
   "cell_type": "code",
   "execution_count": null,
   "id": "6108f9da",
   "metadata": {},
   "outputs": [],
   "source": [
    "medico.save_photo(filepath=f'medico_crm_{crm}.jpg')"
   ]
  },
  {
   "cell_type": "code",
   "execution_count": null,
   "id": "0a0378ed",
   "metadata": {},
   "outputs": [],
   "source": []
  }
 ],
 "metadata": {
  "kernelspec": {
   "display_name": "pycfm",
   "language": "python",
   "name": "python3"
  },
  "language_info": {
   "codemirror_mode": {
    "name": "ipython",
    "version": 3
   },
   "file_extension": ".py",
   "mimetype": "text/x-python",
   "name": "python",
   "nbconvert_exporter": "python",
   "pygments_lexer": "ipython3",
   "version": "3.11.12"
  }
 },
 "nbformat": 4,
 "nbformat_minor": 5
}
