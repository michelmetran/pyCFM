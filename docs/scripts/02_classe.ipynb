{
 "cells": [
  {
   "cell_type": "markdown",
   "id": "a9da1213",
   "metadata": {},
   "source": [
    "<br>\n",
    "\n",
    "# Scripts\n",
    "\n",
    "_Scripts_ para demonstrar o uso da *classe*"
   ]
  },
  {
   "cell_type": "code",
   "execution_count": 57,
   "id": "54e2d690",
   "metadata": {},
   "outputs": [],
   "source": [
    "import pycfm as cfm"
   ]
  },
  {
   "cell_type": "markdown",
   "id": "70142c56",
   "metadata": {},
   "source": [
    "<br>\n",
    "\n",
    "------\n",
    "\n",
    "## Pesquisa CRM"
   ]
  },
  {
   "cell_type": "code",
   "execution_count": 58,
   "id": "59aa9851",
   "metadata": {},
   "outputs": [],
   "source": [
    "crm = 240538\n",
    "\n",
    "medico = cfm.Medico(crm=crm)"
   ]
  },
  {
   "cell_type": "code",
   "execution_count": 59,
   "id": "1e7ea88f",
   "metadata": {},
   "outputs": [
    {
     "data": {
      "text/plain": [
       "{'COUNT': '1',\n",
       " 'SG_UF': 'SP',\n",
       " 'NU_CRM': '240538',\n",
       " 'NU_CRM_NATURAL': '240538',\n",
       " 'NM_MEDICO': 'DANYLLO FELLYPE FERREIRA DOMINGUES',\n",
       " 'COD_SITUACAO': 'A',\n",
       " 'NM_SOCIAL': None,\n",
       " 'DT_INSCRICAO': '29/12/2022',\n",
       " 'IN_TIPO_INSCRICAO': 'P',\n",
       " 'TIPO_INSCRICAO': 'Principal',\n",
       " 'SITUACAO': 'Regular',\n",
       " 'ESPECIALIDADE': None,\n",
       " 'PRIM_INSCRICAO_UF': '29/12/2022',\n",
       " 'PERIODO_I': None,\n",
       " 'PERIODO_F': None,\n",
       " 'OBS_INTERDICAO': None,\n",
       " 'NM_INSTITUICAO_GRADUACAO': 'FACULDADE INGÁ',\n",
       " 'DT_GRADUACAO': '2016',\n",
       " 'ID_TIPO_FORMACAO': '6',\n",
       " 'NM_FACULDADE_ESTRANGEIRA_GRADUACAO': None,\n",
       " 'HAS_POS_GRADUACAO': '0',\n",
       " 'RNUM': '1',\n",
       " 'SECURITYHASH': 'c89a190b990c39654e40848c93158f5a'}"
      ]
     },
     "execution_count": 59,
     "metadata": {},
     "output_type": "execute_result"
    }
   ],
   "source": [
    "medico._data"
   ]
  },
  {
   "cell_type": "markdown",
   "id": "e27fc67e",
   "metadata": {},
   "source": [
    "<br>\n",
    "\n",
    "Uma vez instanciada a classe `Medico` é possível obter diversos atributos que existem no _Conselho Federal de Medicina_.\n"
   ]
  },
  {
   "cell_type": "code",
   "execution_count": 60,
   "id": "d2ea971d",
   "metadata": {},
   "outputs": [
    {
     "data": {
      "text/plain": [
       "'SP'"
      ]
     },
     "execution_count": 60,
     "metadata": {},
     "output_type": "execute_result"
    }
   ],
   "source": [
    "medico.uf"
   ]
  },
  {
   "cell_type": "code",
   "execution_count": 61,
   "id": "f82eb3f0",
   "metadata": {},
   "outputs": [
    {
     "data": {
      "text/plain": [
       "'240538'"
      ]
     },
     "execution_count": 61,
     "metadata": {},
     "output_type": "execute_result"
    }
   ],
   "source": [
    "medico.crm"
   ]
  },
  {
   "cell_type": "code",
   "execution_count": 62,
   "id": "816f0f4f",
   "metadata": {},
   "outputs": [
    {
     "data": {
      "text/plain": [
       "'240538'"
      ]
     },
     "execution_count": 62,
     "metadata": {},
     "output_type": "execute_result"
    }
   ],
   "source": [
    "medico.crm_natural"
   ]
  },
  {
   "cell_type": "code",
   "execution_count": 63,
   "id": "f952da24",
   "metadata": {},
   "outputs": [
    {
     "data": {
      "text/plain": [
       "'DANYLLO FELLYPE FERREIRA DOMINGUES'"
      ]
     },
     "execution_count": 63,
     "metadata": {},
     "output_type": "execute_result"
    }
   ],
   "source": [
    "medico.nome"
   ]
  },
  {
   "cell_type": "code",
   "execution_count": 64,
   "id": "9838b96e",
   "metadata": {},
   "outputs": [],
   "source": [
    "medico.nome_social"
   ]
  },
  {
   "cell_type": "code",
   "execution_count": 65,
   "id": "102f616d",
   "metadata": {},
   "outputs": [
    {
     "data": {
      "text/plain": [
       "'29/12/2022'"
      ]
     },
     "execution_count": 65,
     "metadata": {},
     "output_type": "execute_result"
    }
   ],
   "source": [
    "medico.data_inscricao"
   ]
  },
  {
   "cell_type": "code",
   "execution_count": 66,
   "id": "40bbb334",
   "metadata": {},
   "outputs": [
    {
     "data": {
      "text/plain": [
       "'P'"
      ]
     },
     "execution_count": 66,
     "metadata": {},
     "output_type": "execute_result"
    }
   ],
   "source": [
    "medico.id_tipo_inscricao"
   ]
  },
  {
   "cell_type": "code",
   "execution_count": 67,
   "id": "f5ca191c",
   "metadata": {},
   "outputs": [
    {
     "data": {
      "text/plain": [
       "'Principal'"
      ]
     },
     "execution_count": 67,
     "metadata": {},
     "output_type": "execute_result"
    }
   ],
   "source": [
    "medico.tipo_inscricao"
   ]
  },
  {
   "cell_type": "code",
   "execution_count": 68,
   "id": "f05ddebb",
   "metadata": {},
   "outputs": [
    {
     "data": {
      "text/plain": [
       "'A'"
      ]
     },
     "execution_count": 68,
     "metadata": {},
     "output_type": "execute_result"
    }
   ],
   "source": [
    "medico.id_situacao"
   ]
  },
  {
   "cell_type": "code",
   "execution_count": 69,
   "id": "eef135ad",
   "metadata": {},
   "outputs": [
    {
     "data": {
      "text/plain": [
       "'Regular'"
      ]
     },
     "execution_count": 69,
     "metadata": {},
     "output_type": "execute_result"
    }
   ],
   "source": [
    "medico.situacao"
   ]
  },
  {
   "cell_type": "code",
   "execution_count": 70,
   "id": "7c0bc726",
   "metadata": {},
   "outputs": [],
   "source": [
    "medico.especialidade"
   ]
  },
  {
   "cell_type": "code",
   "execution_count": 71,
   "id": "26646868",
   "metadata": {},
   "outputs": [
    {
     "data": {
      "text/plain": [
       "'FACULDADE INGÁ'"
      ]
     },
     "execution_count": 71,
     "metadata": {},
     "output_type": "execute_result"
    }
   ],
   "source": [
    "medico.instituicao_graduacao"
   ]
  },
  {
   "cell_type": "code",
   "execution_count": 72,
   "id": "aee1ae15",
   "metadata": {},
   "outputs": [
    {
     "data": {
      "text/plain": [
       "'2016'"
      ]
     },
     "execution_count": 72,
     "metadata": {},
     "output_type": "execute_result"
    }
   ],
   "source": [
    "medico.ano_graduacao"
   ]
  },
  {
   "cell_type": "markdown",
   "id": "a664e8b8",
   "metadata": {},
   "source": [
    "<br>\n",
    "\n",
    "-----\n",
    "\n",
    "## Photo"
   ]
  },
  {
   "cell_type": "code",
   "execution_count": 73,
   "id": "f6523daa",
   "metadata": {},
   "outputs": [],
   "source": [
    "# medico._buscar_foto()"
   ]
  },
  {
   "cell_type": "code",
   "execution_count": 74,
   "id": "e283ba58",
   "metadata": {},
   "outputs": [],
   "source": [
    "# medico._data_foto"
   ]
  },
  {
   "cell_type": "code",
   "execution_count": 75,
   "id": "0bddab9c",
   "metadata": {},
   "outputs": [
    {
     "data": {
      "text/plain": [
       "'6984616'"
      ]
     },
     "execution_count": 75,
     "metadata": {},
     "output_type": "execute_result"
    }
   ],
   "source": [
    "medico.id_solicitante"
   ]
  },
  {
   "cell_type": "code",
   "execution_count": 76,
   "id": "6e2db47e",
   "metadata": {},
   "outputs": [
    {
     "data": {
      "text/plain": [
       "'Ativo'"
      ]
     },
     "execution_count": 76,
     "metadata": {},
     "output_type": "execute_result"
    }
   ],
   "source": [
    "medico.situacao2"
   ]
  },
  {
   "cell_type": "code",
   "execution_count": 77,
   "id": "15ba6391",
   "metadata": {},
   "outputs": [
    {
     "data": {
      "text/plain": [
       "' -  -  - /'"
      ]
     },
     "execution_count": 77,
     "metadata": {},
     "output_type": "execute_result"
    }
   ],
   "source": [
    "medico.endereco"
   ]
  },
  {
   "cell_type": "code",
   "execution_count": 78,
   "id": "94dd999b",
   "metadata": {},
   "outputs": [],
   "source": [
    "medico.telefone"
   ]
  },
  {
   "cell_type": "code",
   "execution_count": 79,
   "id": "1c3035c5",
   "metadata": {},
   "outputs": [
    {
     "data": {
      "text/plain": [
       "'MS/9027 (Cancelado), PR/36359 (Regular)'"
      ]
     },
     "execution_count": 79,
     "metadata": {},
     "output_type": "execute_result"
    }
   ],
   "source": [
    "medico.inscricao"
   ]
  },
  {
   "cell_type": "code",
   "execution_count": 80,
   "id": "772bee8b",
   "metadata": {},
   "outputs": [],
   "source": [
    "medico.autorizacao_imagem"
   ]
  },
  {
   "cell_type": "code",
   "execution_count": 81,
   "id": "f37ae00d",
   "metadata": {},
   "outputs": [],
   "source": [
    "medico.autorizacao_endereco"
   ]
  },
  {
   "cell_type": "code",
   "execution_count": 82,
   "id": "510d7b31",
   "metadata": {},
   "outputs": [],
   "source": [
    "medico.vp_destino"
   ]
  },
  {
   "cell_type": "code",
   "execution_count": 83,
   "id": "e4733b46",
   "metadata": {},
   "outputs": [],
   "source": [
    "medico.vp_inicio"
   ]
  },
  {
   "cell_type": "code",
   "execution_count": 84,
   "id": "d5ec5cbc",
   "metadata": {},
   "outputs": [],
   "source": [
    "medico.vp_fim"
   ]
  },
  {
   "cell_type": "code",
   "execution_count": 85,
   "id": "74a2544b",
   "metadata": {},
   "outputs": [
    {
     "data": {
      "text/plain": [
       "'4c0480bc18e5c1fecf4f3ba46beedfa9'"
      ]
     },
     "execution_count": 85,
     "metadata": {},
     "output_type": "execute_result"
    }
   ],
   "source": [
    "medico.hash"
   ]
  },
  {
   "cell_type": "markdown",
   "id": "91373ef8",
   "metadata": {},
   "source": [
    "<br>\n",
    "\n",
    "---\n",
    "\n",
    "## Salvar foto\n"
   ]
  },
  {
   "cell_type": "code",
   "execution_count": 86,
   "id": "6108f9da",
   "metadata": {},
   "outputs": [],
   "source": [
    "medico.save_photo(filepath=f'medico_crm_{crm}.jpg')"
   ]
  },
  {
   "cell_type": "code",
   "execution_count": null,
   "id": "0a0378ed",
   "metadata": {},
   "outputs": [],
   "source": []
  }
 ],
 "metadata": {
  "kernelspec": {
   "display_name": "pycfm",
   "language": "python",
   "name": "python3"
  },
  "language_info": {
   "codemirror_mode": {
    "name": "ipython",
    "version": 3
   },
   "file_extension": ".py",
   "mimetype": "text/x-python",
   "name": "python",
   "nbconvert_exporter": "python",
   "pygments_lexer": "ipython3",
   "version": "3.11.12"
  }
 },
 "nbformat": 4,
 "nbformat_minor": 5
}
