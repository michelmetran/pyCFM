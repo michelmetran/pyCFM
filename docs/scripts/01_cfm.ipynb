{
 "cells": [
  {
   "cell_type": "markdown",
   "id": "5c9c455c",
   "metadata": {},
   "source": [
    "<br>\n",
    "\n",
    "# CFM\n",
    "\n",
    "_Scripts_ ddd\n",
    "\n",
    "<br>\n",
    "\n",
    "Michel Metran\\\n",
    "Data: 17.09.2025\\\n",
    "Atualizado em: 17.09.2025\n"
   ]
  },
  {
   "cell_type": "code",
   "execution_count": null,
   "id": "6ea854f2",
   "metadata": {},
   "outputs": [],
   "source": [
    "import json\n",
    "from urllib.parse import (\n",
    "    parse_qs,\n",
    "    parse_qsl,\n",
    "    quote,\n",
    "    quote_plus,\n",
    "    unquote,\n",
    "    urlencode,\n",
    "    urljoin,\n",
    "    urlparse,\n",
    "    urlsplit,\n",
    "    urlunparse,\n",
    ")\n",
    "from urllib.request import urlopen, urlretrieve\n",
    "\n",
    "import pandas as pd\n",
    "import requests\n",
    "import urllib3\n",
    "\n",
    "#from paths import output_path"
   ]
  },
  {
   "cell_type": "markdown",
   "id": "50a0983e",
   "metadata": {},
   "source": [
    "<br>\n",
    "\n",
    "---\n",
    "\n",
    "## Listar Estados\n"
   ]
  },
  {
   "cell_type": "code",
   "execution_count": null,
   "id": "d125b55d",
   "metadata": {},
   "outputs": [],
   "source": [
    "URL_BASE = 'https://portal.cfm.org.br/'"
   ]
  },
  {
   "cell_type": "code",
   "execution_count": null,
   "id": "a58fafec",
   "metadata": {},
   "outputs": [],
   "source": [
    "url = urljoin(base=URL_BASE, url='/api_rest_php/api/v1/medicos/listar_ufs')"
   ]
  },
  {
   "cell_type": "markdown",
   "id": "c04daca7",
   "metadata": {},
   "source": [
    "<br>\n",
    "\n",
    "---\n",
    "\n",
    "### Requests\n"
   ]
  },
  {
   "cell_type": "code",
   "execution_count": null,
   "id": "13c8985b",
   "metadata": {},
   "outputs": [],
   "source": [
    "r = requests.get(url=url)\n",
    "if r.status_code == 200:\n",
    "    pass"
   ]
  },
  {
   "cell_type": "code",
   "execution_count": null,
   "id": "a86b0672",
   "metadata": {},
   "outputs": [],
   "source": [
    "r.content.decode(encoding='utf-8')"
   ]
  },
  {
   "cell_type": "code",
   "execution_count": null,
   "id": "b2fddc06",
   "metadata": {},
   "outputs": [],
   "source": [
    "data = json.loads(r.content.decode(encoding='utf-8'))\n",
    "if data['status'] == 'sucesso':\n",
    "    print(data['dados'])\n",
    "\n",
    "# ddd\n",
    "df = pd.DataFrame(data['dados'])\n",
    "df"
   ]
  },
  {
   "cell_type": "code",
   "execution_count": null,
   "id": "d3ae4301",
   "metadata": {},
   "outputs": [],
   "source": [
    "list(df['SG_UF'])"
   ]
  },
  {
   "cell_type": "markdown",
   "id": "d31da0d5",
   "metadata": {},
   "source": [
    "<br>\n",
    "\n",
    "---\n",
    "\n",
    "### Urllib\n"
   ]
  },
  {
   "cell_type": "code",
   "execution_count": null,
   "id": "d24ab1a9",
   "metadata": {},
   "outputs": [],
   "source": [
    "with urlopen(url=url) as response:\n",
    "    # response = response\n",
    "    data = json.load(response)\n",
    "\n",
    "data['dados']"
   ]
  },
  {
   "cell_type": "markdown",
   "id": "2a520508",
   "metadata": {},
   "source": [
    "<br>\n",
    "\n",
    "---\n",
    "\n",
    "## Listar Especialidades\n"
   ]
  },
  {
   "cell_type": "code",
   "execution_count": null,
   "id": "51db2302",
   "metadata": {},
   "outputs": [],
   "source": [
    "url = 'https://portal.cfm.org.br/api_rest_php/api/v1/medicos/listar_especialidades'\n",
    "\n",
    "url = urljoin(\n",
    "    base=URL_BASE,\n",
    "    url='/api_rest_php/api/v1/medicos/listar_especialidades',\n",
    ")\n",
    "\n",
    "url"
   ]
  },
  {
   "cell_type": "markdown",
   "id": "24e1d33d",
   "metadata": {},
   "source": [
    "<br>\n",
    "\n",
    "---\n",
    "\n",
    "### Requests\n"
   ]
  },
  {
   "cell_type": "code",
   "execution_count": null,
   "id": "16b47da1",
   "metadata": {},
   "outputs": [],
   "source": [
    "r = requests.get(url=url)\n",
    "r.status_code"
   ]
  },
  {
   "cell_type": "code",
   "execution_count": null,
   "id": "58e77be2",
   "metadata": {},
   "outputs": [],
   "source": [
    "r.content"
   ]
  },
  {
   "cell_type": "code",
   "execution_count": null,
   "id": "e63c11e3",
   "metadata": {},
   "outputs": [],
   "source": [
    "data = json.loads(r.content.decode(encoding='utf-8'))\n",
    "if data['status'] == 'sucesso':\n",
    "    print(data['dados'])\n",
    "\n",
    "# ddd\n",
    "df = pd.DataFrame(data['dados'])\n",
    "df"
   ]
  },
  {
   "cell_type": "markdown",
   "id": "f0c3e876",
   "metadata": {},
   "source": [
    "<br>\n",
    "\n",
    "---\n",
    "\n",
    "### Urllib\n"
   ]
  },
  {
   "cell_type": "code",
   "execution_count": null,
   "id": "1ff50022",
   "metadata": {},
   "outputs": [],
   "source": [
    "# headers = {'X-Requested-With': 'XMLHttpRequest'}\n",
    "\n",
    "# with urlopen(url=url, header=headers) as response:\n",
    "#     r = response\n",
    "#     if response.status == 200:\n",
    "#         pass\n",
    "\n",
    "#     #\n",
    "#     content = response.read()\n",
    "#     print(content)  # Veja o que está vindo\n",
    "#     # data = json.load(response)\n",
    "#     # print(response)"
   ]
  },
  {
   "cell_type": "code",
   "execution_count": null,
   "id": "2dfcf646",
   "metadata": {},
   "outputs": [],
   "source": [
    "# r.read()"
   ]
  },
  {
   "cell_type": "markdown",
   "id": "ed4fb51e",
   "metadata": {},
   "source": [
    "<br>\n",
    "\n",
    "---\n",
    "\n",
    "## Lista Áreas de Atuação\n"
   ]
  },
  {
   "cell_type": "code",
   "execution_count": null,
   "id": "f0119702",
   "metadata": {},
   "outputs": [],
   "source": [
    "url = (\n",
    "    'https://portal.cfm.org.br/api_rest_php/api/v1/medicos/buscar_areas_atuacao'\n",
    ")"
   ]
  },
  {
   "cell_type": "code",
   "execution_count": null,
   "id": "d62cbafa",
   "metadata": {},
   "outputs": [],
   "source": [
    "r = requests.get(url=url)\n",
    "r.status_code"
   ]
  },
  {
   "cell_type": "code",
   "execution_count": null,
   "id": "db66e06f",
   "metadata": {},
   "outputs": [],
   "source": [
    "data = json.loads(r.content.decode(encoding='utf-8'))\n",
    "if data['status'] == 'sucesso':\n",
    "    print(data['dados'])\n",
    "\n",
    "# ddd\n",
    "df = pd.DataFrame(data['dados'])\n",
    "df"
   ]
  },
  {
   "cell_type": "markdown",
   "id": "51a5a4a2",
   "metadata": {},
   "source": [
    "<br>\n",
    "\n",
    "---\n",
    "\n",
    "## Buscar Médicos\n"
   ]
  },
  {
   "cell_type": "code",
   "execution_count": null,
   "id": "d43751bf",
   "metadata": {},
   "outputs": [],
   "source": [
    "url = 'https://portal.cfm.org.br/api_rest_php/api/v1/medicos/buscar_medicos'"
   ]
  },
  {
   "cell_type": "code",
   "execution_count": null,
   "id": "98f6a892",
   "metadata": {},
   "outputs": [],
   "source": [
    "crm = 240538\n",
    "payload = [\n",
    "    {\n",
    "        'useCaptchav2': True,\n",
    "        'captcha': '0cAFcWeA5PbSMF1dx0PQ4mDwsHahYn_y0MD43eMwGRjSEGARjaQvG6GGn7ZaRIYj3sxnlBZqdt7yU1URWLsS3VTm0laspQdPxyrBo1mgDMspcZ6nrnvCQhwXF1P2Mw-OGpH4YEaVnuvCXFnPja9drpcbgfQd0Ux0rUL5_7iWAcnndlqWRCaGllcIryIEoESOS1PnG0rYzgECZ6m8jq78Pxisx_BE56wslOy-0ZiJnc0um-oZ93lLXGxVpwnfW13HH8ZSPvekEREpS81Ahspdtp6LH_We0QRr2IJu4UGzZ-E6m4NQOoYPYd1aprWIvwt2aUME5n2ezAtK45ZH1JXiZwqMwOeSB8BQszpkJ25uAAvLhAARUqCb_ovll3N6-p8ffzRx-7EFIso-m_FTiTmMnKwotscGnSoLPCd1_LBH_5yRyAjvEP9jFDBVYiQX--udnS6I9VcvQ_Z9ifrCIN7LjEnKuL8UJRL6mr0BWnstWxFDMuMEOYedtNtaPQ45I-P502TMA8Anmz_9CdbPFgsd4M4MLR6mVcUSybnEyCEDmCkpqH2FT4P-Z_ZBFr64ez91k8vKLdmjqvwbtaysewcYTXtzYTYCkS9NHtHyQkaNNKaP9-1w8v_R5BJI5YgccDsOjY4Vupejgif7vgemYzGyb5GR0_YxzSli8nOvsZ5vQxgSwkEyfNsHdunrThUsDDDqmWwihPQ0vOcBqT3wSIBBP00iv0JKIooI4Prxlc9ehTM2_xvxle5M-Ixd7Atk2qt1VaFdb57YqcmD17',\n",
    "        'medico': {\n",
    "            'nome': '',\n",
    "            'ufMedico': '',\n",
    "            'crmMedico': f'{crm}',\n",
    "            'municipioMedico': '',\n",
    "            'tipoInscricaoMedico': '',\n",
    "            'situacaoMedico': '',\n",
    "            'detalheSituacaoMedico': '',\n",
    "            'especialidadeMedico': '',\n",
    "            'areaAtuacaoMedico': '',\n",
    "        },\n",
    "        'page': 1,\n",
    "        'pageNumber': 1,\n",
    "        'pageSize': 10,\n",
    "    }\n",
    "]\n",
    "\n",
    "payload"
   ]
  },
  {
   "cell_type": "code",
   "execution_count": null,
   "id": "17f252c9",
   "metadata": {},
   "outputs": [],
   "source": [
    "r = requests.post(url=url, json=payload)\n",
    "r.status_code"
   ]
  },
  {
   "cell_type": "code",
   "execution_count": null,
   "id": "01871e2e",
   "metadata": {},
   "outputs": [],
   "source": [
    "r.content"
   ]
  },
  {
   "cell_type": "code",
   "execution_count": null,
   "id": "f3dd89c4",
   "metadata": {},
   "outputs": [],
   "source": [
    "data = json.loads(r.content.decode(encoding='utf-8'))\n",
    "data"
   ]
  },
  {
   "cell_type": "code",
   "execution_count": null,
   "id": "c15fd468",
   "metadata": {},
   "outputs": [],
   "source": [
    "security_hash = data['dados'][0]['SECURITYHASH']\n",
    "uf = data['dados'][0]['SG_UF']"
   ]
  },
  {
   "cell_type": "markdown",
   "id": "2c87d269",
   "metadata": {},
   "source": [
    "<br>\n",
    "\n",
    "---\n",
    "\n",
    "## Buscar Foto\n"
   ]
  },
  {
   "cell_type": "code",
   "execution_count": null,
   "id": "3c6372be",
   "metadata": {},
   "outputs": [],
   "source": [
    "url = 'https://portal.cfm.org.br/api_rest_php/api/v1/medicos/buscar_foto'"
   ]
  },
  {
   "cell_type": "code",
   "execution_count": null,
   "id": "f2d58592",
   "metadata": {},
   "outputs": [],
   "source": [
    "payload = [\n",
    "    {\n",
    "        'securityHash': security_hash,\n",
    "        'crm': f'{crm}',\n",
    "        'uf': uf,\n",
    "    }\n",
    "]\n",
    "\n",
    "payload"
   ]
  },
  {
   "cell_type": "code",
   "execution_count": null,
   "id": "b201c303",
   "metadata": {},
   "outputs": [],
   "source": [
    "r = requests.post(url=url, json=payload)\n",
    "r.status_code"
   ]
  },
  {
   "cell_type": "code",
   "execution_count": null,
   "id": "a83fcd9f",
   "metadata": {},
   "outputs": [],
   "source": [
    "data = json.loads(r.content.decode(encoding='utf-8'))\n",
    "if data['status'] == 'sucesso':\n",
    "    print(data['dados'])\n",
    "    df = pd.DataFrame(data['dados'])\n",
    "\n",
    "# Results\n",
    "df"
   ]
  },
  {
   "cell_type": "markdown",
   "id": "0a893693",
   "metadata": {},
   "source": [
    "Foto"
   ]
  },
  {
   "cell_type": "code",
   "execution_count": null,
   "id": "e05f9167",
   "metadata": {},
   "outputs": [],
   "source": [
    "url = 'https://portal.cfm.org.br/wp-content/themes/portalcfm/assets/php/foto_medico.php'"
   ]
  },
  {
   "cell_type": "code",
   "execution_count": null,
   "id": "99c66387",
   "metadata": {},
   "outputs": [],
   "source": [
    "r = requests.get(\n",
    "    url=url,\n",
    "    params={\n",
    "        'crm': 240538,\n",
    "        'uf': 'SP',\n",
    "        'hash': '4c0480bc18e5c1fecf4f3ba46beedfa9',\n",
    "    },\n",
    ")\n",
    "r.status_code"
   ]
  },
  {
   "cell_type": "code",
   "execution_count": null,
   "id": "0332a5f9",
   "metadata": {},
   "outputs": [],
   "source": [
    "# Para salvar a imagem, por exemplo:\n",
    "with open(output_path / f'medico_crm_{crm}.jpg', 'wb') as f:\n",
    "    f.write(r.content)"
   ]
  },
  {
   "cell_type": "code",
   "execution_count": null,
   "id": "19282ee0",
   "metadata": {},
   "outputs": [],
   "source": []
  }
 ],
 "metadata": {
  "kernelspec": {
   "display_name": "pycfm",
   "language": "python",
   "name": "python3"
  },
  "language_info": {
   "codemirror_mode": {
    "name": "ipython",
    "version": 3
   },
   "file_extension": ".py",
   "mimetype": "text/x-python",
   "name": "python",
   "nbconvert_exporter": "python",
   "pygments_lexer": "ipython3",
   "version": "3.11.12"
  }
 },
 "nbformat": 4,
 "nbformat_minor": 5
}
