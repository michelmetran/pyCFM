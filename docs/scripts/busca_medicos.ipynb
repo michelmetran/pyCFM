{
 "cells": [
  {
   "cell_type": "markdown",
   "id": "a9da1213",
   "metadata": {},
   "source": [
    "<br>\n",
    "\n",
    "# Scripts\n",
    "\n",
    "_Scripts_ para demonstrar o uso da _classe_\n"
   ]
  },
  {
   "cell_type": "code",
   "execution_count": 1,
   "id": "54e2d690",
   "metadata": {},
   "outputs": [],
   "source": [
    "import pycfm as cfm"
   ]
  },
  {
   "cell_type": "markdown",
   "id": "70142c56",
   "metadata": {},
   "source": [
    "<br>\n",
    "\n",
    "---\n",
    "\n",
    "## Pesquisa CRM\n"
   ]
  },
  {
   "cell_type": "code",
   "execution_count": 2,
   "id": "59aa9851",
   "metadata": {},
   "outputs": [],
   "source": [
    "crm = 240538\n",
    "crm = 16652\n",
    "\n",
    "medico = cfm.Medico(\n",
    "    crm=crm,\n",
    "    uf='SP',\n",
    "    # nome='Maria'\n",
    ")"
   ]
  },
  {
   "cell_type": "code",
   "execution_count": 3,
   "id": "f1585a81",
   "metadata": {},
   "outputs": [
    {
     "data": {
      "text/plain": [
       "{'COUNT': '1',\n",
       " 'SG_UF': 'SP',\n",
       " 'NU_CRM': '16652',\n",
       " 'NU_CRM_NATURAL': '16652',\n",
       " 'NM_MEDICO': 'JOSE THADEU CENAMO TELLINI',\n",
       " 'COD_SITUACAO': 'A',\n",
       " 'NM_SOCIAL': None,\n",
       " 'DT_INSCRICAO': '08/02/1972',\n",
       " 'IN_TIPO_INSCRICAO': 'P',\n",
       " 'TIPO_INSCRICAO': 'Principal',\n",
       " 'SITUACAO': 'Regular',\n",
       " 'ESPECIALIDADE': '&ANESTESIOLOGIA - RQE Nº: 108632',\n",
       " 'PRIM_INSCRICAO_UF': '08/02/1972',\n",
       " 'PERIODO_I': None,\n",
       " 'PERIODO_F': None,\n",
       " 'OBS_INTERDICAO': None,\n",
       " 'NM_INSTITUICAO_GRADUACAO': 'FACULDADE DE CIENCIAS MEDICAS SANTA CASA SAO PAULO',\n",
       " 'DT_GRADUACAO': '1971',\n",
       " 'ID_TIPO_FORMACAO': '6',\n",
       " 'NM_FACULDADE_ESTRANGEIRA_GRADUACAO': None,\n",
       " 'HAS_POS_GRADUACAO': '0',\n",
       " 'RNUM': '1',\n",
       " 'SECURITYHASH': '5cd5eb9baa6f44ed1be641fa4ba99087'}"
      ]
     },
     "execution_count": 3,
     "metadata": {},
     "output_type": "execute_result"
    }
   ],
   "source": [
    "medico._data"
   ]
  },
  {
   "cell_type": "markdown",
   "id": "e27fc67e",
   "metadata": {},
   "source": [
    "<br>\n",
    "\n",
    "Uma vez instanciada a classe `Medico` é possível obter diversos atributos que existem no _Conselho Federal de Medicina_.\n"
   ]
  },
  {
   "cell_type": "code",
   "execution_count": 4,
   "id": "d2ea971d",
   "metadata": {},
   "outputs": [
    {
     "data": {
      "text/plain": [
       "'SP'"
      ]
     },
     "execution_count": 4,
     "metadata": {},
     "output_type": "execute_result"
    }
   ],
   "source": [
    "medico.uf"
   ]
  },
  {
   "cell_type": "code",
   "execution_count": 5,
   "id": "f82eb3f0",
   "metadata": {},
   "outputs": [
    {
     "data": {
      "text/plain": [
       "'16652'"
      ]
     },
     "execution_count": 5,
     "metadata": {},
     "output_type": "execute_result"
    }
   ],
   "source": [
    "medico.crm"
   ]
  },
  {
   "cell_type": "code",
   "execution_count": 6,
   "id": "816f0f4f",
   "metadata": {},
   "outputs": [
    {
     "data": {
      "text/plain": [
       "'16652'"
      ]
     },
     "execution_count": 6,
     "metadata": {},
     "output_type": "execute_result"
    }
   ],
   "source": [
    "medico.crm_natural"
   ]
  },
  {
   "cell_type": "code",
   "execution_count": 7,
   "id": "f952da24",
   "metadata": {},
   "outputs": [
    {
     "data": {
      "text/plain": [
       "'JOSE THADEU CENAMO TELLINI'"
      ]
     },
     "execution_count": 7,
     "metadata": {},
     "output_type": "execute_result"
    }
   ],
   "source": [
    "medico.nome"
   ]
  },
  {
   "cell_type": "code",
   "execution_count": 8,
   "id": "9838b96e",
   "metadata": {},
   "outputs": [],
   "source": [
    "medico.nome_social"
   ]
  },
  {
   "cell_type": "code",
   "execution_count": 9,
   "id": "102f616d",
   "metadata": {},
   "outputs": [
    {
     "data": {
      "text/plain": [
       "'08/02/1972'"
      ]
     },
     "execution_count": 9,
     "metadata": {},
     "output_type": "execute_result"
    }
   ],
   "source": [
    "medico.data_inscricao"
   ]
  },
  {
   "cell_type": "code",
   "execution_count": 10,
   "id": "40bbb334",
   "metadata": {},
   "outputs": [
    {
     "data": {
      "text/plain": [
       "'P'"
      ]
     },
     "execution_count": 10,
     "metadata": {},
     "output_type": "execute_result"
    }
   ],
   "source": [
    "medico.id_tipo_inscricao"
   ]
  },
  {
   "cell_type": "code",
   "execution_count": 11,
   "id": "f5ca191c",
   "metadata": {},
   "outputs": [
    {
     "data": {
      "text/plain": [
       "'Principal'"
      ]
     },
     "execution_count": 11,
     "metadata": {},
     "output_type": "execute_result"
    }
   ],
   "source": [
    "medico.tipo_inscricao"
   ]
  },
  {
   "cell_type": "code",
   "execution_count": 12,
   "id": "f05ddebb",
   "metadata": {},
   "outputs": [
    {
     "data": {
      "text/plain": [
       "'A'"
      ]
     },
     "execution_count": 12,
     "metadata": {},
     "output_type": "execute_result"
    }
   ],
   "source": [
    "medico.id_situacao"
   ]
  },
  {
   "cell_type": "code",
   "execution_count": 13,
   "id": "eef135ad",
   "metadata": {},
   "outputs": [
    {
     "data": {
      "text/plain": [
       "'Regular'"
      ]
     },
     "execution_count": 13,
     "metadata": {},
     "output_type": "execute_result"
    }
   ],
   "source": [
    "medico.situacao"
   ]
  },
  {
   "cell_type": "code",
   "execution_count": 14,
   "id": "7c0bc726",
   "metadata": {},
   "outputs": [
    {
     "data": {
      "text/plain": [
       "'&ANESTESIOLOGIA - RQE Nº: 108632'"
      ]
     },
     "execution_count": 14,
     "metadata": {},
     "output_type": "execute_result"
    }
   ],
   "source": [
    "medico.especialidade"
   ]
  },
  {
   "cell_type": "code",
   "execution_count": 15,
   "id": "26646868",
   "metadata": {},
   "outputs": [
    {
     "data": {
      "text/plain": [
       "'FACULDADE DE CIENCIAS MEDICAS SANTA CASA SAO PAULO'"
      ]
     },
     "execution_count": 15,
     "metadata": {},
     "output_type": "execute_result"
    }
   ],
   "source": [
    "medico.instituicao_graduacao"
   ]
  },
  {
   "cell_type": "code",
   "execution_count": 16,
   "id": "aee1ae15",
   "metadata": {},
   "outputs": [
    {
     "data": {
      "text/plain": [
       "'1971'"
      ]
     },
     "execution_count": 16,
     "metadata": {},
     "output_type": "execute_result"
    }
   ],
   "source": [
    "medico.ano_graduacao"
   ]
  },
  {
   "cell_type": "markdown",
   "id": "a664e8b8",
   "metadata": {},
   "source": [
    "<br>\n",
    "\n",
    "---\n",
    "\n",
    "## Photo\n"
   ]
  },
  {
   "cell_type": "code",
   "execution_count": 17,
   "id": "f6523daa",
   "metadata": {},
   "outputs": [],
   "source": [
    "# medico._buscar_foto()"
   ]
  },
  {
   "cell_type": "code",
   "execution_count": 18,
   "id": "e283ba58",
   "metadata": {},
   "outputs": [],
   "source": [
    "# medico._data_foto"
   ]
  },
  {
   "cell_type": "code",
   "execution_count": 19,
   "id": "0bddab9c",
   "metadata": {},
   "outputs": [
    {
     "data": {
      "text/plain": [
       "'266341'"
      ]
     },
     "execution_count": 19,
     "metadata": {},
     "output_type": "execute_result"
    }
   ],
   "source": [
    "medico.id_solicitante"
   ]
  },
  {
   "cell_type": "code",
   "execution_count": 20,
   "id": "6e2db47e",
   "metadata": {},
   "outputs": [
    {
     "data": {
      "text/plain": [
       "'Ativo'"
      ]
     },
     "execution_count": 20,
     "metadata": {},
     "output_type": "execute_result"
    }
   ],
   "source": [
    "medico.situacao2"
   ]
  },
  {
   "cell_type": "code",
   "execution_count": 21,
   "id": "15ba6391",
   "metadata": {},
   "outputs": [
    {
     "data": {
      "text/plain": [
       "' -  -  - /'"
      ]
     },
     "execution_count": 21,
     "metadata": {},
     "output_type": "execute_result"
    }
   ],
   "source": [
    "medico.endereco"
   ]
  },
  {
   "cell_type": "code",
   "execution_count": 22,
   "id": "94dd999b",
   "metadata": {},
   "outputs": [],
   "source": [
    "medico.telefone"
   ]
  },
  {
   "cell_type": "code",
   "execution_count": 23,
   "id": "1c3035c5",
   "metadata": {},
   "outputs": [],
   "source": [
    "medico.inscricao"
   ]
  },
  {
   "cell_type": "code",
   "execution_count": 24,
   "id": "772bee8b",
   "metadata": {},
   "outputs": [
    {
     "data": {
      "text/plain": [
       "'S'"
      ]
     },
     "execution_count": 24,
     "metadata": {},
     "output_type": "execute_result"
    }
   ],
   "source": [
    "medico.autorizacao_imagem"
   ]
  },
  {
   "cell_type": "code",
   "execution_count": 25,
   "id": "f37ae00d",
   "metadata": {},
   "outputs": [],
   "source": [
    "medico.autorizacao_endereco"
   ]
  },
  {
   "cell_type": "code",
   "execution_count": 26,
   "id": "510d7b31",
   "metadata": {},
   "outputs": [],
   "source": [
    "medico.vp_destino"
   ]
  },
  {
   "cell_type": "code",
   "execution_count": 27,
   "id": "e4733b46",
   "metadata": {},
   "outputs": [],
   "source": [
    "medico.vp_inicio"
   ]
  },
  {
   "cell_type": "code",
   "execution_count": 28,
   "id": "d5ec5cbc",
   "metadata": {},
   "outputs": [],
   "source": [
    "medico.vp_fim"
   ]
  },
  {
   "cell_type": "code",
   "execution_count": 29,
   "id": "74a2544b",
   "metadata": {},
   "outputs": [
    {
     "data": {
      "text/plain": [
       "'5a3516147de9ac727edb58584fba52ee'"
      ]
     },
     "execution_count": 29,
     "metadata": {},
     "output_type": "execute_result"
    }
   ],
   "source": [
    "medico.hash"
   ]
  },
  {
   "cell_type": "markdown",
   "id": "91373ef8",
   "metadata": {},
   "source": [
    "<br>\n",
    "\n",
    "---\n",
    "\n",
    "## Salvar foto\n"
   ]
  },
  {
   "cell_type": "code",
   "execution_count": 30,
   "id": "6108f9da",
   "metadata": {},
   "outputs": [
    {
     "name": "stderr",
     "output_type": "stream",
     "text": [
      "d:\\Codes/GitHub/Personal/my_projects/pyCFM\\pycfm\\main.py:324: UserWarning: Requisição não autorizada. Ajustar!\n",
      "  warnings.warn('Requisição não autorizada. Ajustar!')\n"
     ]
    }
   ],
   "source": [
    "medico.save_photo(filepath=f'foto_medico.jpg')"
   ]
  },
  {
   "cell_type": "code",
   "execution_count": null,
   "id": "ddb9e1b1",
   "metadata": {},
   "outputs": [],
   "source": []
  }
 ],
 "metadata": {
  "kernelspec": {
   "display_name": "pycfm",
   "language": "python",
   "name": "python3"
  },
  "language_info": {
   "codemirror_mode": {
    "name": "ipython",
    "version": 3
   },
   "file_extension": ".py",
   "mimetype": "text/x-python",
   "name": "python",
   "nbconvert_exporter": "python",
   "pygments_lexer": "ipython3",
   "version": "3.11.12"
  }
 },
 "nbformat": 4,
 "nbformat_minor": 5
}
