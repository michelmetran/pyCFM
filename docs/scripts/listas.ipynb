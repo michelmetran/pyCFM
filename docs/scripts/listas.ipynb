{
 "cells": [
  {
   "cell_type": "markdown",
   "id": "06705802",
   "metadata": {},
   "source": [
    "<br>\n",
    "\n",
    "# Listas\n",
    "\n",
    "_Scripts_ para demonstrar o uso da _classe_ `Lista`.\n",
    "\n",
    "O _Conselho Federal de Medicina_ disponibiliza chamadas de API para listar três tópicos:\n",
    "\n",
    "- Estados\n",
    "- Especialidades Médicas\n",
    "- Áreas de Atuação\n",
    "\n",
    "<br>\n",
    "\n",
    "Logo, foi desenvolvido uma _classe_ que permite a consulta dessas listas e é possível retornar os resultados em formado _json_ ou _dataframe_ ([pandas](https://pypi.org/project/pandas/)).\n"
   ]
  },
  {
   "cell_type": "code",
   "execution_count": null,
   "id": "d037b267",
   "metadata": {},
   "outputs": [],
   "source": [
    "import pycfm as cfm"
   ]
  },
  {
   "cell_type": "markdown",
   "id": "fc3ac30c",
   "metadata": {},
   "source": [
    "<br>\n",
    "\n",
    "-----\n",
    "\n",
    "## Estado"
   ]
  },
  {
   "cell_type": "code",
   "execution_count": null,
   "id": "8a20998f",
   "metadata": {},
   "outputs": [],
   "source": [
    "lista = cfm.Lista(lista='estado')\n",
    "lista.as_dataframe.head()"
   ]
  },
  {
   "cell_type": "code",
   "execution_count": null,
   "id": "9b676c47",
   "metadata": {},
   "outputs": [],
   "source": [
    "lista.as_json"
   ]
  },
  {
   "cell_type": "markdown",
   "id": "3447d914",
   "metadata": {},
   "source": [
    "<br>\n",
    "\n",
    "---\n",
    "\n",
    "## Especialidade\n"
   ]
  },
  {
   "cell_type": "code",
   "execution_count": null,
   "id": "53397f61",
   "metadata": {},
   "outputs": [],
   "source": [
    "lista = cfm.Lista(lista='especialidade')\n",
    "lista.as_dataframe.head()"
   ]
  },
  {
   "cell_type": "code",
   "execution_count": null,
   "id": "636b5dbb",
   "metadata": {},
   "outputs": [],
   "source": [
    "lista.as_json"
   ]
  },
  {
   "cell_type": "markdown",
   "id": "e997efce",
   "metadata": {},
   "source": [
    "<br>\n",
    "\n",
    "---\n",
    "\n",
    "## Atuação\n"
   ]
  },
  {
   "cell_type": "code",
   "execution_count": null,
   "id": "73eb64fc",
   "metadata": {},
   "outputs": [],
   "source": [
    "lista = cfm.Lista(lista='atuação')\n",
    "lista.as_dataframe.head()"
   ]
  },
  {
   "cell_type": "code",
   "execution_count": null,
   "id": "0a9339c6",
   "metadata": {},
   "outputs": [],
   "source": [
    "lista.as_json"
   ]
  },
  {
   "cell_type": "code",
   "execution_count": null,
   "id": "703f6747",
   "metadata": {},
   "outputs": [],
   "source": []
  }
 ],
 "metadata": {
  "kernelspec": {
   "display_name": "pycfm",
   "language": "python",
   "name": "python3"
  },
  "language_info": {
   "codemirror_mode": {
    "name": "ipython",
    "version": 3
   },
   "file_extension": ".py",
   "mimetype": "text/x-python",
   "name": "python",
   "nbconvert_exporter": "python",
   "pygments_lexer": "ipython3",
   "version": "3.11.12"
  }
 },
 "nbformat": 4,
 "nbformat_minor": 5
}
