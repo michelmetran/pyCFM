{
 "cells": [
  {
   "cell_type": "markdown",
   "id": "06705802",
   "metadata": {},
   "source": [
    "<br>\n",
    "\n",
    "# Listas\n",
    "\n",
    "_Scripts_ para demonstrar o uso da _classe_ `Lista`.\n",
    "\n",
    "O _Conselho Federal de Medicina_ disponibiliza chamadas de API para listar três tópicos:\n",
    "\n",
    "- Estados\n",
    "- Especialidades Médicas\n",
    "- Áreas de Atuação\n",
    "\n",
    "<br>\n",
    "\n",
    "Logo, foi desenvolvido uma _classe_ que permite a consulta dessas listas e é possível retornar os resultados em formado _json_ ou _dataframe_ ([pandas](https://pypi.org/project/pandas/)).\n"
   ]
  },
  {
   "cell_type": "code",
   "execution_count": 23,
   "id": "d037b267",
   "metadata": {},
   "outputs": [],
   "source": [
    "import pprint\n",
    "\n",
    "import pycfm as cfm"
   ]
  },
  {
   "cell_type": "markdown",
   "id": "fc3ac30c",
   "metadata": {},
   "source": [
    "<br>\n",
    "\n",
    "-----\n",
    "\n",
    "## Estado"
   ]
  },
  {
   "cell_type": "code",
   "execution_count": 24,
   "id": "8a20998f",
   "metadata": {},
   "outputs": [
    {
     "data": {
      "text/html": [
       "<div>\n",
       "<style scoped>\n",
       "    .dataframe tbody tr th:only-of-type {\n",
       "        vertical-align: middle;\n",
       "    }\n",
       "\n",
       "    .dataframe tbody tr th {\n",
       "        vertical-align: top;\n",
       "    }\n",
       "\n",
       "    .dataframe thead th {\n",
       "        text-align: right;\n",
       "    }\n",
       "</style>\n",
       "<table border=\"1\" class=\"dataframe\">\n",
       "  <thead>\n",
       "    <tr style=\"text-align: right;\">\n",
       "      <th></th>\n",
       "      <th>SG_UF</th>\n",
       "      <th>DS_UF</th>\n",
       "    </tr>\n",
       "  </thead>\n",
       "  <tbody>\n",
       "    <tr>\n",
       "      <th>0</th>\n",
       "      <td>AC</td>\n",
       "      <td>ACRE</td>\n",
       "    </tr>\n",
       "    <tr>\n",
       "      <th>1</th>\n",
       "      <td>AL</td>\n",
       "      <td>ALAGOAS</td>\n",
       "    </tr>\n",
       "    <tr>\n",
       "      <th>2</th>\n",
       "      <td>AM</td>\n",
       "      <td>AMAZONAS</td>\n",
       "    </tr>\n",
       "    <tr>\n",
       "      <th>3</th>\n",
       "      <td>AP</td>\n",
       "      <td>AMAPÁ</td>\n",
       "    </tr>\n",
       "    <tr>\n",
       "      <th>4</th>\n",
       "      <td>BA</td>\n",
       "      <td>BAHIA</td>\n",
       "    </tr>\n",
       "  </tbody>\n",
       "</table>\n",
       "</div>"
      ],
      "text/plain": [
       "  SG_UF     DS_UF\n",
       "0    AC      ACRE\n",
       "1    AL   ALAGOAS\n",
       "2    AM  AMAZONAS\n",
       "3    AP     AMAPÁ\n",
       "4    BA     BAHIA"
      ]
     },
     "execution_count": 24,
     "metadata": {},
     "output_type": "execute_result"
    }
   ],
   "source": [
    "lista = cfm.Lista(lista='estado')\n",
    "lista.as_dataframe.head()"
   ]
  },
  {
   "cell_type": "code",
   "execution_count": 25,
   "id": "9b676c47",
   "metadata": {},
   "outputs": [
    {
     "name": "stdout",
     "output_type": "stream",
     "text": [
      "[{'DS_UF': 'ACRE', 'SG_UF': 'AC'},\n",
      " {'DS_UF': 'ALAGOAS', 'SG_UF': 'AL'},\n",
      " {'DS_UF': 'AMAZONAS', 'SG_UF': 'AM'},\n",
      " {'DS_UF': 'AMAPÁ', 'SG_UF': 'AP'},\n",
      " {'DS_UF': 'BAHIA', 'SG_UF': 'BA'}]\n"
     ]
    }
   ],
   "source": [
    "pprint.pprint(lista.as_json[:5])"
   ]
  },
  {
   "cell_type": "markdown",
   "id": "3447d914",
   "metadata": {},
   "source": [
    "<br>\n",
    "\n",
    "---\n",
    "\n",
    "## Especialidade\n"
   ]
  },
  {
   "cell_type": "code",
   "execution_count": 26,
   "id": "53397f61",
   "metadata": {},
   "outputs": [
    {
     "data": {
      "text/html": [
       "<div>\n",
       "<style scoped>\n",
       "    .dataframe tbody tr th:only-of-type {\n",
       "        vertical-align: middle;\n",
       "    }\n",
       "\n",
       "    .dataframe tbody tr th {\n",
       "        vertical-align: top;\n",
       "    }\n",
       "\n",
       "    .dataframe thead th {\n",
       "        text-align: right;\n",
       "    }\n",
       "</style>\n",
       "<table border=\"1\" class=\"dataframe\">\n",
       "  <thead>\n",
       "    <tr style=\"text-align: right;\">\n",
       "      <th></th>\n",
       "      <th>ID_ESPECIALIDADE</th>\n",
       "      <th>DS_ESPECIALIDADE</th>\n",
       "    </tr>\n",
       "  </thead>\n",
       "  <tbody>\n",
       "    <tr>\n",
       "      <th>0</th>\n",
       "      <td>66</td>\n",
       "      <td>ACUPUNTURA</td>\n",
       "    </tr>\n",
       "    <tr>\n",
       "      <th>1</th>\n",
       "      <td>97</td>\n",
       "      <td>ADMINISTRAÇÃO EM SAÚDE</td>\n",
       "    </tr>\n",
       "    <tr>\n",
       "      <th>2</th>\n",
       "      <td>1</td>\n",
       "      <td>ADMINISTRAÇÃO HOSPITALAR</td>\n",
       "    </tr>\n",
       "    <tr>\n",
       "      <th>3</th>\n",
       "      <td>2</td>\n",
       "      <td>ALERGIA E IMUNOLOGIA</td>\n",
       "    </tr>\n",
       "    <tr>\n",
       "      <th>4</th>\n",
       "      <td>98</td>\n",
       "      <td>ALERGIA E IMUNOPATOLOGIA</td>\n",
       "    </tr>\n",
       "  </tbody>\n",
       "</table>\n",
       "</div>"
      ],
      "text/plain": [
       "  ID_ESPECIALIDADE          DS_ESPECIALIDADE\n",
       "0               66                ACUPUNTURA\n",
       "1               97    ADMINISTRAÇÃO EM SAÚDE\n",
       "2                1  ADMINISTRAÇÃO HOSPITALAR\n",
       "3                2      ALERGIA E IMUNOLOGIA\n",
       "4               98  ALERGIA E IMUNOPATOLOGIA"
      ]
     },
     "execution_count": 26,
     "metadata": {},
     "output_type": "execute_result"
    }
   ],
   "source": [
    "lista = cfm.Lista(lista='especialidade')\n",
    "lista.as_dataframe.head()"
   ]
  },
  {
   "cell_type": "code",
   "execution_count": 27,
   "id": "636b5dbb",
   "metadata": {},
   "outputs": [
    {
     "name": "stdout",
     "output_type": "stream",
     "text": [
      "[{'DS_ESPECIALIDADE': 'ACUPUNTURA', 'ID_ESPECIALIDADE': '66'},\n",
      " {'DS_ESPECIALIDADE': 'ADMINISTRAÇÃO EM SAÚDE', 'ID_ESPECIALIDADE': '97'},\n",
      " {'DS_ESPECIALIDADE': 'ADMINISTRAÇÃO HOSPITALAR', 'ID_ESPECIALIDADE': '1'},\n",
      " {'DS_ESPECIALIDADE': 'ALERGIA E IMUNOLOGIA', 'ID_ESPECIALIDADE': '2'},\n",
      " {'DS_ESPECIALIDADE': 'ALERGIA E IMUNOPATOLOGIA', 'ID_ESPECIALIDADE': '98'}]\n"
     ]
    }
   ],
   "source": [
    "pprint.pprint(lista.as_json[:5])"
   ]
  },
  {
   "cell_type": "markdown",
   "id": "e997efce",
   "metadata": {},
   "source": [
    "<br>\n",
    "\n",
    "---\n",
    "\n",
    "## Atuação\n"
   ]
  },
  {
   "cell_type": "code",
   "execution_count": 28,
   "id": "73eb64fc",
   "metadata": {},
   "outputs": [
    {
     "data": {
      "text/html": [
       "<div>\n",
       "<style scoped>\n",
       "    .dataframe tbody tr th:only-of-type {\n",
       "        vertical-align: middle;\n",
       "    }\n",
       "\n",
       "    .dataframe tbody tr th {\n",
       "        vertical-align: top;\n",
       "    }\n",
       "\n",
       "    .dataframe thead th {\n",
       "        text-align: right;\n",
       "    }\n",
       "</style>\n",
       "<table border=\"1\" class=\"dataframe\">\n",
       "  <thead>\n",
       "    <tr style=\"text-align: right;\">\n",
       "      <th></th>\n",
       "      <th>ID_AREA_ATUACAO</th>\n",
       "      <th>DS_AREA_ATUACAO</th>\n",
       "    </tr>\n",
       "  </thead>\n",
       "  <tbody>\n",
       "    <tr>\n",
       "      <th>0</th>\n",
       "      <td>2</td>\n",
       "      <td>Administração Hospitalar</td>\n",
       "    </tr>\n",
       "    <tr>\n",
       "      <th>1</th>\n",
       "      <td>1</td>\n",
       "      <td>Administração em Saúde</td>\n",
       "    </tr>\n",
       "    <tr>\n",
       "      <th>2</th>\n",
       "      <td>81</td>\n",
       "      <td>Adolescência</td>\n",
       "    </tr>\n",
       "    <tr>\n",
       "      <th>3</th>\n",
       "      <td>3</td>\n",
       "      <td>Alergia e Imunologia Pediátrica</td>\n",
       "    </tr>\n",
       "    <tr>\n",
       "      <th>4</th>\n",
       "      <td>4</td>\n",
       "      <td>Andrologia</td>\n",
       "    </tr>\n",
       "  </tbody>\n",
       "</table>\n",
       "</div>"
      ],
      "text/plain": [
       "  ID_AREA_ATUACAO                  DS_AREA_ATUACAO\n",
       "0               2         Administração Hospitalar\n",
       "1               1           Administração em Saúde\n",
       "2              81                     Adolescência\n",
       "3               3  Alergia e Imunologia Pediátrica\n",
       "4               4                       Andrologia"
      ]
     },
     "execution_count": 28,
     "metadata": {},
     "output_type": "execute_result"
    }
   ],
   "source": [
    "lista = cfm.Lista(lista='atuação')\n",
    "lista.as_dataframe.head()"
   ]
  },
  {
   "cell_type": "code",
   "execution_count": 29,
   "id": "0a9339c6",
   "metadata": {},
   "outputs": [
    {
     "name": "stdout",
     "output_type": "stream",
     "text": [
      "[{'DS_AREA_ATUACAO': 'Administração Hospitalar', 'ID_AREA_ATUACAO': '2'},\n",
      " {'DS_AREA_ATUACAO': 'Administração em Saúde', 'ID_AREA_ATUACAO': '1'},\n",
      " {'DS_AREA_ATUACAO': 'Adolescência', 'ID_AREA_ATUACAO': '81'},\n",
      " {'DS_AREA_ATUACAO': 'Alergia e Imunologia Pediátrica', 'ID_AREA_ATUACAO': '3'},\n",
      " {'DS_AREA_ATUACAO': 'Andrologia', 'ID_AREA_ATUACAO': '4'}]\n"
     ]
    }
   ],
   "source": [
    "pprint.pprint(lista.as_json[:5])"
   ]
  },
  {
   "cell_type": "code",
   "execution_count": null,
   "id": "703f6747",
   "metadata": {},
   "outputs": [],
   "source": []
  }
 ],
 "metadata": {
  "kernelspec": {
   "display_name": "pycfm",
   "language": "python",
   "name": "python3"
  },
  "language_info": {
   "codemirror_mode": {
    "name": "ipython",
    "version": 3
   },
   "file_extension": ".py",
   "mimetype": "text/x-python",
   "name": "python",
   "nbconvert_exporter": "python",
   "pygments_lexer": "ipython3",
   "version": "3.11.12"
  }
 },
 "nbformat": 4,
 "nbformat_minor": 5
}
